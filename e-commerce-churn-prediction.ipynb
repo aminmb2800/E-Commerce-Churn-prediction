{
 "cells": [
  {
   "cell_type": "markdown",
   "id": "82b53455",
   "metadata": {
    "_cell_guid": "b1076dfc-b9ad-4769-8c92-a6c4dae69d19",
    "_uuid": "8f2839f25d086af736a60e9eeb907d3b93b6e0e5",
    "papermill": {
     "duration": 0.00772,
     "end_time": "2023-04-10T10:52:05.206552",
     "exception": false,
     "start_time": "2023-04-10T10:52:05.198832",
     "status": "completed"
    },
    "tags": []
   },
   "source": [
    "# <span style=\"background-color: Green;\">E Commerce Churn prediction</span>  "
   ]
  },
  {
   "cell_type": "markdown",
   "id": "bd935b3a",
   "metadata": {
    "papermill": {
     "duration": 0.006546,
     "end_time": "2023-04-10T10:52:05.220636",
     "exception": false,
     "start_time": "2023-04-10T10:52:05.214090",
     "status": "completed"
    },
    "tags": []
   },
   "source": [
    "## <span style=\"background-color: Yellow;\">Intro</span>  \n",
    "\n",
    "**The data set belongs to a leading online E-Commerce company. An online retail (E commerce) company wants to know the customers who are going to churn, so accordingly they can approach customer to offer some promos.**\n",
    "\n",
    "**It is possible to spend between five and twenty five times more on attracting new customers than on retaining existing ones. Increasing customer retention by 5% over a period of time can cause a company's profits to increase by 25% to approximately 95%. In order to predict customer churn, I will develop a machine learning model.**"
   ]
  },
  {
   "cell_type": "markdown",
   "id": "39ef43f6",
   "metadata": {
    "papermill": {
     "duration": 0.007355,
     "end_time": "2023-04-10T10:52:05.234733",
     "exception": false,
     "start_time": "2023-04-10T10:52:05.227378",
     "status": "completed"
    },
    "tags": []
   },
   "source": [
    "# <span style=\"background-color: Green;\">Import packages</span>  \n",
    " "
   ]
  },
  {
   "cell_type": "code",
   "execution_count": 1,
   "id": "10cfc445",
   "metadata": {
    "execution": {
     "iopub.execute_input": "2023-04-10T10:52:05.250536Z",
     "iopub.status.busy": "2023-04-10T10:52:05.250115Z",
     "iopub.status.idle": "2023-04-10T10:52:07.255891Z",
     "shell.execute_reply": "2023-04-10T10:52:07.254703Z"
    },
    "papermill": {
     "duration": 2.016989,
     "end_time": "2023-04-10T10:52:07.258676",
     "exception": false,
     "start_time": "2023-04-10T10:52:05.241687",
     "status": "completed"
    },
    "tags": []
   },
   "outputs": [],
   "source": [
    "import numpy as np\n",
    "import pandas as pd\n",
    "import seaborn as sns\n",
    "import matplotlib.pyplot as plt\n",
    "\n",
    "\n",
    "from IPython.display import display\n",
    "from sklearn.linear_model import LogisticRegression\n",
    "from sklearn.ensemble import RandomForestClassifier\n",
    "from sklearn.preprocessing import LabelEncoder\n",
    "\n",
    "\n",
    "from sklearn.model_selection import train_test_split, cross_val_score\n",
    "from sklearn.metrics import classification_report,confusion_matrix , roc_curve\n",
    "from sklearn.metrics import accuracy_score, precision_score, recall_score, f1_score,roc_auc_score\n",
    "\n",
    "\n",
    "\n",
    "import warnings\n",
    "warnings.simplefilter(action=\"ignore\")"
   ]
  },
  {
   "cell_type": "markdown",
   "id": "6562318d",
   "metadata": {
    "papermill": {
     "duration": 0.006448,
     "end_time": "2023-04-10T10:52:07.271948",
     "exception": false,
     "start_time": "2023-04-10T10:52:07.265500",
     "status": "completed"
    },
    "tags": []
   },
   "source": [
    "## <span style=\"background-color: Yellow;\">Read Data and Checking</span>  \n"
   ]
  },
  {
   "cell_type": "code",
   "execution_count": 2,
   "id": "d4989dff",
   "metadata": {
    "execution": {
     "iopub.execute_input": "2023-04-10T10:52:07.287868Z",
     "iopub.status.busy": "2023-04-10T10:52:07.286924Z",
     "iopub.status.idle": "2023-04-10T10:52:09.508375Z",
     "shell.execute_reply": "2023-04-10T10:52:09.507422Z"
    },
    "papermill": {
     "duration": 2.232419,
     "end_time": "2023-04-10T10:52:09.511137",
     "exception": false,
     "start_time": "2023-04-10T10:52:07.278718",
     "status": "completed"
    },
    "tags": []
   },
   "outputs": [],
   "source": [
    "df = pd.read_excel('/kaggle/input/ecommerce-customer-churn-analysis-and-prediction/E Commerce Dataset.xlsx', sheet_name='E Comm')"
   ]
  },
  {
   "cell_type": "code",
   "execution_count": 3,
   "id": "982c92cb",
   "metadata": {
    "execution": {
     "iopub.execute_input": "2023-04-10T10:52:09.528315Z",
     "iopub.status.busy": "2023-04-10T10:52:09.527677Z",
     "iopub.status.idle": "2023-04-10T10:52:09.570216Z",
     "shell.execute_reply": "2023-04-10T10:52:09.569173Z"
    },
    "papermill": {
     "duration": 0.05497,
     "end_time": "2023-04-10T10:52:09.574237",
     "exception": false,
     "start_time": "2023-04-10T10:52:09.519267",
     "status": "completed"
    },
    "tags": []
   },
   "outputs": [
    {
     "name": "stdout",
     "output_type": "stream",
     "text": [
      "**Dataset:**\n",
      "-------------data-------------------\n"
     ]
    },
    {
     "data": {
      "text/html": [
       "<div>\n",
       "<style scoped>\n",
       "    .dataframe tbody tr th:only-of-type {\n",
       "        vertical-align: middle;\n",
       "    }\n",
       "\n",
       "    .dataframe tbody tr th {\n",
       "        vertical-align: top;\n",
       "    }\n",
       "\n",
       "    .dataframe thead th {\n",
       "        text-align: right;\n",
       "    }\n",
       "</style>\n",
       "<table border=\"1\" class=\"dataframe\">\n",
       "  <thead>\n",
       "    <tr style=\"text-align: right;\">\n",
       "      <th></th>\n",
       "      <th>CustomerID</th>\n",
       "      <th>Churn</th>\n",
       "      <th>Tenure</th>\n",
       "      <th>PreferredLoginDevice</th>\n",
       "      <th>CityTier</th>\n",
       "      <th>WarehouseToHome</th>\n",
       "      <th>PreferredPaymentMode</th>\n",
       "      <th>Gender</th>\n",
       "      <th>HourSpendOnApp</th>\n",
       "      <th>NumberOfDeviceRegistered</th>\n",
       "      <th>PreferedOrderCat</th>\n",
       "      <th>SatisfactionScore</th>\n",
       "      <th>MaritalStatus</th>\n",
       "      <th>NumberOfAddress</th>\n",
       "      <th>Complain</th>\n",
       "      <th>OrderAmountHikeFromlastYear</th>\n",
       "      <th>CouponUsed</th>\n",
       "      <th>OrderCount</th>\n",
       "      <th>DaySinceLastOrder</th>\n",
       "      <th>CashbackAmount</th>\n",
       "    </tr>\n",
       "  </thead>\n",
       "  <tbody>\n",
       "    <tr>\n",
       "      <th>0</th>\n",
       "      <td>50001</td>\n",
       "      <td>1</td>\n",
       "      <td>4.0</td>\n",
       "      <td>Mobile Phone</td>\n",
       "      <td>3</td>\n",
       "      <td>6.0</td>\n",
       "      <td>Debit Card</td>\n",
       "      <td>Female</td>\n",
       "      <td>3.0</td>\n",
       "      <td>3</td>\n",
       "      <td>Laptop &amp; Accessory</td>\n",
       "      <td>2</td>\n",
       "      <td>Single</td>\n",
       "      <td>9</td>\n",
       "      <td>1</td>\n",
       "      <td>11.0</td>\n",
       "      <td>1.0</td>\n",
       "      <td>1.0</td>\n",
       "      <td>5.0</td>\n",
       "      <td>159.93</td>\n",
       "    </tr>\n",
       "    <tr>\n",
       "      <th>1</th>\n",
       "      <td>50002</td>\n",
       "      <td>1</td>\n",
       "      <td>NaN</td>\n",
       "      <td>Phone</td>\n",
       "      <td>1</td>\n",
       "      <td>8.0</td>\n",
       "      <td>UPI</td>\n",
       "      <td>Male</td>\n",
       "      <td>3.0</td>\n",
       "      <td>4</td>\n",
       "      <td>Mobile</td>\n",
       "      <td>3</td>\n",
       "      <td>Single</td>\n",
       "      <td>7</td>\n",
       "      <td>1</td>\n",
       "      <td>15.0</td>\n",
       "      <td>0.0</td>\n",
       "      <td>1.0</td>\n",
       "      <td>0.0</td>\n",
       "      <td>120.90</td>\n",
       "    </tr>\n",
       "    <tr>\n",
       "      <th>2</th>\n",
       "      <td>50003</td>\n",
       "      <td>1</td>\n",
       "      <td>NaN</td>\n",
       "      <td>Phone</td>\n",
       "      <td>1</td>\n",
       "      <td>30.0</td>\n",
       "      <td>Debit Card</td>\n",
       "      <td>Male</td>\n",
       "      <td>2.0</td>\n",
       "      <td>4</td>\n",
       "      <td>Mobile</td>\n",
       "      <td>3</td>\n",
       "      <td>Single</td>\n",
       "      <td>6</td>\n",
       "      <td>1</td>\n",
       "      <td>14.0</td>\n",
       "      <td>0.0</td>\n",
       "      <td>1.0</td>\n",
       "      <td>3.0</td>\n",
       "      <td>120.28</td>\n",
       "    </tr>\n",
       "    <tr>\n",
       "      <th>3</th>\n",
       "      <td>50004</td>\n",
       "      <td>1</td>\n",
       "      <td>0.0</td>\n",
       "      <td>Phone</td>\n",
       "      <td>3</td>\n",
       "      <td>15.0</td>\n",
       "      <td>Debit Card</td>\n",
       "      <td>Male</td>\n",
       "      <td>2.0</td>\n",
       "      <td>4</td>\n",
       "      <td>Laptop &amp; Accessory</td>\n",
       "      <td>5</td>\n",
       "      <td>Single</td>\n",
       "      <td>8</td>\n",
       "      <td>0</td>\n",
       "      <td>23.0</td>\n",
       "      <td>0.0</td>\n",
       "      <td>1.0</td>\n",
       "      <td>3.0</td>\n",
       "      <td>134.07</td>\n",
       "    </tr>\n",
       "    <tr>\n",
       "      <th>4</th>\n",
       "      <td>50005</td>\n",
       "      <td>1</td>\n",
       "      <td>0.0</td>\n",
       "      <td>Phone</td>\n",
       "      <td>1</td>\n",
       "      <td>12.0</td>\n",
       "      <td>CC</td>\n",
       "      <td>Male</td>\n",
       "      <td>NaN</td>\n",
       "      <td>3</td>\n",
       "      <td>Mobile</td>\n",
       "      <td>5</td>\n",
       "      <td>Single</td>\n",
       "      <td>3</td>\n",
       "      <td>0</td>\n",
       "      <td>11.0</td>\n",
       "      <td>1.0</td>\n",
       "      <td>1.0</td>\n",
       "      <td>3.0</td>\n",
       "      <td>129.60</td>\n",
       "    </tr>\n",
       "  </tbody>\n",
       "</table>\n",
       "</div>"
      ],
      "text/plain": [
       "   CustomerID  Churn  Tenure PreferredLoginDevice  CityTier  WarehouseToHome  \\\n",
       "0       50001      1     4.0         Mobile Phone         3              6.0   \n",
       "1       50002      1     NaN                Phone         1              8.0   \n",
       "2       50003      1     NaN                Phone         1             30.0   \n",
       "3       50004      1     0.0                Phone         3             15.0   \n",
       "4       50005      1     0.0                Phone         1             12.0   \n",
       "\n",
       "  PreferredPaymentMode  Gender  HourSpendOnApp  NumberOfDeviceRegistered  \\\n",
       "0           Debit Card  Female             3.0                         3   \n",
       "1                  UPI    Male             3.0                         4   \n",
       "2           Debit Card    Male             2.0                         4   \n",
       "3           Debit Card    Male             2.0                         4   \n",
       "4                   CC    Male             NaN                         3   \n",
       "\n",
       "     PreferedOrderCat  SatisfactionScore MaritalStatus  NumberOfAddress  \\\n",
       "0  Laptop & Accessory                  2        Single                9   \n",
       "1              Mobile                  3        Single                7   \n",
       "2              Mobile                  3        Single                6   \n",
       "3  Laptop & Accessory                  5        Single                8   \n",
       "4              Mobile                  5        Single                3   \n",
       "\n",
       "   Complain  OrderAmountHikeFromlastYear  CouponUsed  OrderCount  \\\n",
       "0         1                         11.0         1.0         1.0   \n",
       "1         1                         15.0         0.0         1.0   \n",
       "2         1                         14.0         0.0         1.0   \n",
       "3         0                         23.0         0.0         1.0   \n",
       "4         0                         11.0         1.0         1.0   \n",
       "\n",
       "   DaySinceLastOrder  CashbackAmount  \n",
       "0                5.0          159.93  \n",
       "1                0.0          120.90  \n",
       "2                3.0          120.28  \n",
       "3                3.0          134.07  \n",
       "4                3.0          129.60  "
      ]
     },
     "metadata": {},
     "output_type": "display_data"
    },
    {
     "name": "stdout",
     "output_type": "stream",
     "text": [
      "--------------Data shape ------------------\n",
      "**Dataset shape:** (5630, 20)\n"
     ]
    }
   ],
   "source": [
    "print(\"**Dataset:**\")\n",
    "print(\"-------------data-------------------\")\n",
    "display(df.head())\n",
    "print(\"--------------Data shape ------------------\")\n",
    "print(\"**Dataset shape:**\", df.shape)"
   ]
  },
  {
   "cell_type": "markdown",
   "id": "249f387a",
   "metadata": {
    "papermill": {
     "duration": 0.007272,
     "end_time": "2023-04-10T10:52:09.588724",
     "exception": false,
     "start_time": "2023-04-10T10:52:09.581452",
     "status": "completed"
    },
    "tags": []
   },
   "source": [
    "- **First overview of data**\n",
    " \n",
    "  * `customer ID` - Unique customer ID (numerical)\n",
    "  * `Churn` - Churn Flag (numerical)\n",
    "  * `Tenure` - Tenure of customer in organization (numerical)\n",
    "  * `PreferredLoginDevice` - Preferred login device of customer (categorical)\n",
    "  * `CityTier` - City tier (numerical)\n",
    "  * `WarehouseToHome` - Distance in between warehouse to home of customer (numerical)\n",
    "  * `PreferredPaymentMode` - Preferred payment method of customer (categorical)\n",
    "  * `Gender` - Gender of customer (categorical)\n",
    "  * `HourSpendOnApp` - Number of hours spend on mobile application or website (numerical)\n",
    "  * `NumberOfDeviceRegistered` - Total number of deceives is registered on particular customer (numerical)\n",
    "  * `PreferedOrderCat ` - Preferred order category of customer in last month (categorical)\n",
    "  * `SatisfactionScore` - Satisfactory score of customer on service (numerical)\n",
    "  * `MaritalStatus` - Marital status of customer (categorical)\n",
    "  * `NumberOfAddress` - Total number of address added on particular customer (numerical)\n",
    "  * `Complain` - Any complaint has been raised in last month (numerical)\n",
    "  * `OrderAmountHikeFromlastYear` - Percentage increases in order from last year (numerical)\n",
    "  * `CouponUsed` - Total number of coupon has been used in last month (numerical)\n",
    "  * `OrderCount` - Total number of orders has been places in last month (numerical)\n",
    "  * `DaySinceLastOrder` - Day Since last order by customer (numerical)\n",
    "  * `CashbackAmount` - Average cashback in last month (numerical)\n",
    "  \n",
    "**----------------------------------------------------------------------------------**  "
   ]
  },
  {
   "cell_type": "code",
   "execution_count": 4,
   "id": "83c24c87",
   "metadata": {
    "execution": {
     "iopub.execute_input": "2023-04-10T10:52:09.605089Z",
     "iopub.status.busy": "2023-04-10T10:52:09.604300Z",
     "iopub.status.idle": "2023-04-10T10:52:09.693536Z",
     "shell.execute_reply": "2023-04-10T10:52:09.692482Z"
    },
    "papermill": {
     "duration": 0.101834,
     "end_time": "2023-04-10T10:52:09.697585",
     "exception": false,
     "start_time": "2023-04-10T10:52:09.595751",
     "status": "completed"
    },
    "tags": []
   },
   "outputs": [
    {
     "name": "stdout",
     "output_type": "stream",
     "text": [
      "--------------------Data description----------------------------\n"
     ]
    },
    {
     "data": {
      "text/html": [
       "<div>\n",
       "<style scoped>\n",
       "    .dataframe tbody tr th:only-of-type {\n",
       "        vertical-align: middle;\n",
       "    }\n",
       "\n",
       "    .dataframe tbody tr th {\n",
       "        vertical-align: top;\n",
       "    }\n",
       "\n",
       "    .dataframe thead th {\n",
       "        text-align: right;\n",
       "    }\n",
       "</style>\n",
       "<table border=\"1\" class=\"dataframe\">\n",
       "  <thead>\n",
       "    <tr style=\"text-align: right;\">\n",
       "      <th></th>\n",
       "      <th>count</th>\n",
       "      <th>mean</th>\n",
       "      <th>std</th>\n",
       "      <th>min</th>\n",
       "      <th>25%</th>\n",
       "      <th>50%</th>\n",
       "      <th>75%</th>\n",
       "      <th>max</th>\n",
       "    </tr>\n",
       "  </thead>\n",
       "  <tbody>\n",
       "    <tr>\n",
       "      <th>CustomerID</th>\n",
       "      <td>5630.0</td>\n",
       "      <td>52815.500000</td>\n",
       "      <td>1625.385339</td>\n",
       "      <td>50001.0</td>\n",
       "      <td>51408.25</td>\n",
       "      <td>52815.50</td>\n",
       "      <td>54222.7500</td>\n",
       "      <td>55630.00</td>\n",
       "    </tr>\n",
       "    <tr>\n",
       "      <th>Churn</th>\n",
       "      <td>5630.0</td>\n",
       "      <td>0.168384</td>\n",
       "      <td>0.374240</td>\n",
       "      <td>0.0</td>\n",
       "      <td>0.00</td>\n",
       "      <td>0.00</td>\n",
       "      <td>0.0000</td>\n",
       "      <td>1.00</td>\n",
       "    </tr>\n",
       "    <tr>\n",
       "      <th>Tenure</th>\n",
       "      <td>5366.0</td>\n",
       "      <td>10.189899</td>\n",
       "      <td>8.557241</td>\n",
       "      <td>0.0</td>\n",
       "      <td>2.00</td>\n",
       "      <td>9.00</td>\n",
       "      <td>16.0000</td>\n",
       "      <td>61.00</td>\n",
       "    </tr>\n",
       "    <tr>\n",
       "      <th>CityTier</th>\n",
       "      <td>5630.0</td>\n",
       "      <td>1.654707</td>\n",
       "      <td>0.915389</td>\n",
       "      <td>1.0</td>\n",
       "      <td>1.00</td>\n",
       "      <td>1.00</td>\n",
       "      <td>3.0000</td>\n",
       "      <td>3.00</td>\n",
       "    </tr>\n",
       "    <tr>\n",
       "      <th>WarehouseToHome</th>\n",
       "      <td>5379.0</td>\n",
       "      <td>15.639896</td>\n",
       "      <td>8.531475</td>\n",
       "      <td>5.0</td>\n",
       "      <td>9.00</td>\n",
       "      <td>14.00</td>\n",
       "      <td>20.0000</td>\n",
       "      <td>127.00</td>\n",
       "    </tr>\n",
       "    <tr>\n",
       "      <th>HourSpendOnApp</th>\n",
       "      <td>5375.0</td>\n",
       "      <td>2.931535</td>\n",
       "      <td>0.721926</td>\n",
       "      <td>0.0</td>\n",
       "      <td>2.00</td>\n",
       "      <td>3.00</td>\n",
       "      <td>3.0000</td>\n",
       "      <td>5.00</td>\n",
       "    </tr>\n",
       "    <tr>\n",
       "      <th>NumberOfDeviceRegistered</th>\n",
       "      <td>5630.0</td>\n",
       "      <td>3.688988</td>\n",
       "      <td>1.023999</td>\n",
       "      <td>1.0</td>\n",
       "      <td>3.00</td>\n",
       "      <td>4.00</td>\n",
       "      <td>4.0000</td>\n",
       "      <td>6.00</td>\n",
       "    </tr>\n",
       "    <tr>\n",
       "      <th>SatisfactionScore</th>\n",
       "      <td>5630.0</td>\n",
       "      <td>3.066785</td>\n",
       "      <td>1.380194</td>\n",
       "      <td>1.0</td>\n",
       "      <td>2.00</td>\n",
       "      <td>3.00</td>\n",
       "      <td>4.0000</td>\n",
       "      <td>5.00</td>\n",
       "    </tr>\n",
       "    <tr>\n",
       "      <th>NumberOfAddress</th>\n",
       "      <td>5630.0</td>\n",
       "      <td>4.214032</td>\n",
       "      <td>2.583586</td>\n",
       "      <td>1.0</td>\n",
       "      <td>2.00</td>\n",
       "      <td>3.00</td>\n",
       "      <td>6.0000</td>\n",
       "      <td>22.00</td>\n",
       "    </tr>\n",
       "    <tr>\n",
       "      <th>Complain</th>\n",
       "      <td>5630.0</td>\n",
       "      <td>0.284902</td>\n",
       "      <td>0.451408</td>\n",
       "      <td>0.0</td>\n",
       "      <td>0.00</td>\n",
       "      <td>0.00</td>\n",
       "      <td>1.0000</td>\n",
       "      <td>1.00</td>\n",
       "    </tr>\n",
       "    <tr>\n",
       "      <th>OrderAmountHikeFromlastYear</th>\n",
       "      <td>5365.0</td>\n",
       "      <td>15.707922</td>\n",
       "      <td>3.675485</td>\n",
       "      <td>11.0</td>\n",
       "      <td>13.00</td>\n",
       "      <td>15.00</td>\n",
       "      <td>18.0000</td>\n",
       "      <td>26.00</td>\n",
       "    </tr>\n",
       "    <tr>\n",
       "      <th>CouponUsed</th>\n",
       "      <td>5374.0</td>\n",
       "      <td>1.751023</td>\n",
       "      <td>1.894621</td>\n",
       "      <td>0.0</td>\n",
       "      <td>1.00</td>\n",
       "      <td>1.00</td>\n",
       "      <td>2.0000</td>\n",
       "      <td>16.00</td>\n",
       "    </tr>\n",
       "    <tr>\n",
       "      <th>OrderCount</th>\n",
       "      <td>5372.0</td>\n",
       "      <td>3.008004</td>\n",
       "      <td>2.939680</td>\n",
       "      <td>1.0</td>\n",
       "      <td>1.00</td>\n",
       "      <td>2.00</td>\n",
       "      <td>3.0000</td>\n",
       "      <td>16.00</td>\n",
       "    </tr>\n",
       "    <tr>\n",
       "      <th>DaySinceLastOrder</th>\n",
       "      <td>5323.0</td>\n",
       "      <td>4.543491</td>\n",
       "      <td>3.654433</td>\n",
       "      <td>0.0</td>\n",
       "      <td>2.00</td>\n",
       "      <td>3.00</td>\n",
       "      <td>7.0000</td>\n",
       "      <td>46.00</td>\n",
       "    </tr>\n",
       "    <tr>\n",
       "      <th>CashbackAmount</th>\n",
       "      <td>5630.0</td>\n",
       "      <td>177.223030</td>\n",
       "      <td>49.207036</td>\n",
       "      <td>0.0</td>\n",
       "      <td>145.77</td>\n",
       "      <td>163.28</td>\n",
       "      <td>196.3925</td>\n",
       "      <td>324.99</td>\n",
       "    </tr>\n",
       "  </tbody>\n",
       "</table>\n",
       "</div>"
      ],
      "text/plain": [
       "                              count          mean          std      min  \\\n",
       "CustomerID                   5630.0  52815.500000  1625.385339  50001.0   \n",
       "Churn                        5630.0      0.168384     0.374240      0.0   \n",
       "Tenure                       5366.0     10.189899     8.557241      0.0   \n",
       "CityTier                     5630.0      1.654707     0.915389      1.0   \n",
       "WarehouseToHome              5379.0     15.639896     8.531475      5.0   \n",
       "HourSpendOnApp               5375.0      2.931535     0.721926      0.0   \n",
       "NumberOfDeviceRegistered     5630.0      3.688988     1.023999      1.0   \n",
       "SatisfactionScore            5630.0      3.066785     1.380194      1.0   \n",
       "NumberOfAddress              5630.0      4.214032     2.583586      1.0   \n",
       "Complain                     5630.0      0.284902     0.451408      0.0   \n",
       "OrderAmountHikeFromlastYear  5365.0     15.707922     3.675485     11.0   \n",
       "CouponUsed                   5374.0      1.751023     1.894621      0.0   \n",
       "OrderCount                   5372.0      3.008004     2.939680      1.0   \n",
       "DaySinceLastOrder            5323.0      4.543491     3.654433      0.0   \n",
       "CashbackAmount               5630.0    177.223030    49.207036      0.0   \n",
       "\n",
       "                                  25%       50%         75%       max  \n",
       "CustomerID                   51408.25  52815.50  54222.7500  55630.00  \n",
       "Churn                            0.00      0.00      0.0000      1.00  \n",
       "Tenure                           2.00      9.00     16.0000     61.00  \n",
       "CityTier                         1.00      1.00      3.0000      3.00  \n",
       "WarehouseToHome                  9.00     14.00     20.0000    127.00  \n",
       "HourSpendOnApp                   2.00      3.00      3.0000      5.00  \n",
       "NumberOfDeviceRegistered         3.00      4.00      4.0000      6.00  \n",
       "SatisfactionScore                2.00      3.00      4.0000      5.00  \n",
       "NumberOfAddress                  2.00      3.00      6.0000     22.00  \n",
       "Complain                         0.00      0.00      1.0000      1.00  \n",
       "OrderAmountHikeFromlastYear     13.00     15.00     18.0000     26.00  \n",
       "CouponUsed                       1.00      1.00      2.0000     16.00  \n",
       "OrderCount                       1.00      2.00      3.0000     16.00  \n",
       "DaySinceLastOrder                2.00      3.00      7.0000     46.00  \n",
       "CashbackAmount                 145.77    163.28    196.3925    324.99  "
      ]
     },
     "metadata": {},
     "output_type": "display_data"
    },
    {
     "name": "stdout",
     "output_type": "stream",
     "text": [
      "--------------------Data Types----------------------------------\n"
     ]
    },
    {
     "data": {
      "text/plain": [
       "CustomerID                       int64\n",
       "Churn                            int64\n",
       "Tenure                         float64\n",
       "PreferredLoginDevice            object\n",
       "CityTier                         int64\n",
       "WarehouseToHome                float64\n",
       "PreferredPaymentMode            object\n",
       "Gender                          object\n",
       "HourSpendOnApp                 float64\n",
       "NumberOfDeviceRegistered         int64\n",
       "PreferedOrderCat                object\n",
       "SatisfactionScore                int64\n",
       "MaritalStatus                   object\n",
       "NumberOfAddress                  int64\n",
       "Complain                         int64\n",
       "OrderAmountHikeFromlastYear    float64\n",
       "CouponUsed                     float64\n",
       "OrderCount                     float64\n",
       "DaySinceLastOrder              float64\n",
       "CashbackAmount                 float64\n",
       "dtype: object"
      ]
     },
     "metadata": {},
     "output_type": "display_data"
    },
    {
     "name": "stdout",
     "output_type": "stream",
     "text": [
      "--------------------Data NA Check-------------------------------\n"
     ]
    },
    {
     "data": {
      "text/plain": [
       "CustomerID                       0\n",
       "Churn                            0\n",
       "Tenure                         264\n",
       "PreferredLoginDevice             0\n",
       "CityTier                         0\n",
       "WarehouseToHome                251\n",
       "PreferredPaymentMode             0\n",
       "Gender                           0\n",
       "HourSpendOnApp                 255\n",
       "NumberOfDeviceRegistered         0\n",
       "PreferedOrderCat                 0\n",
       "SatisfactionScore                0\n",
       "MaritalStatus                    0\n",
       "NumberOfAddress                  0\n",
       "Complain                         0\n",
       "OrderAmountHikeFromlastYear    265\n",
       "CouponUsed                     256\n",
       "OrderCount                     258\n",
       "DaySinceLastOrder              307\n",
       "CashbackAmount                   0\n",
       "dtype: int64"
      ]
     },
     "metadata": {},
     "output_type": "display_data"
    }
   ],
   "source": [
    "print(\"--------------------Data description----------------------------\")\n",
    "display(df.describe().T)\n",
    "print(\"--------------------Data Types----------------------------------\")\n",
    "display(df.dtypes)\n",
    "print(\"--------------------Data NA Check-------------------------------\")\n",
    "display(df.isna().sum())"
   ]
  },
  {
   "cell_type": "code",
   "execution_count": 5,
   "id": "5e9ab9e9",
   "metadata": {
    "execution": {
     "iopub.execute_input": "2023-04-10T10:52:09.715403Z",
     "iopub.status.busy": "2023-04-10T10:52:09.714950Z",
     "iopub.status.idle": "2023-04-10T10:52:10.232438Z",
     "shell.execute_reply": "2023-04-10T10:52:10.230881Z"
    },
    "papermill": {
     "duration": 0.529947,
     "end_time": "2023-04-10T10:52:10.235341",
     "exception": false,
     "start_time": "2023-04-10T10:52:09.705394",
     "status": "completed"
    },
    "tags": []
   },
   "outputs": [
    {
     "name": "stdout",
     "output_type": "stream",
     "text": [
      "--------------------Null values ratio-----------------------\n"
     ]
    },
    {
     "data": {
      "text/plain": [
       "CustomerID                     0.000000\n",
       "Churn                          0.000000\n",
       "Tenure                         4.689165\n",
       "PreferredLoginDevice           0.000000\n",
       "CityTier                       0.000000\n",
       "WarehouseToHome                4.458259\n",
       "PreferredPaymentMode           0.000000\n",
       "Gender                         0.000000\n",
       "HourSpendOnApp                 4.529307\n",
       "NumberOfDeviceRegistered       0.000000\n",
       "PreferedOrderCat               0.000000\n",
       "SatisfactionScore              0.000000\n",
       "MaritalStatus                  0.000000\n",
       "NumberOfAddress                0.000000\n",
       "Complain                       0.000000\n",
       "OrderAmountHikeFromlastYear    4.706927\n",
       "CouponUsed                     4.547069\n",
       "OrderCount                     4.582593\n",
       "DaySinceLastOrder              5.452931\n",
       "CashbackAmount                 0.000000\n",
       "dtype: float64"
      ]
     },
     "metadata": {},
     "output_type": "display_data"
    },
    {
     "name": "stdout",
     "output_type": "stream",
     "text": [
      "--------------------Plotting the ratio of null values-----------------\n"
     ]
    },
    {
     "data": {
      "text/plain": [
       "Text(0.5, 1.0, 'Quantifying missing data')"
      ]
     },
     "execution_count": 5,
     "metadata": {},
     "output_type": "execute_result"
    },
    {
     "data": {
      "image/png": "[encoded data removed]",
      "text/plain": [
       "<Figure size 1200x600 with 1 Axes>"
      ]
     },
     "metadata": {},
     "output_type": "display_data"
    }
   ],
   "source": [
    "print(\"--------------------Null values ratio-----------------------\")\n",
    "display(df.isnull().mean()*100)\n",
    "print(\"--------------------Plotting the ratio of null values-----------------\")\n",
    "(df.isnull().mean()*100).plot.bar(figsize=(12,6))\n",
    "plt.ylabel('Percentage of missing values %')\n",
    "plt.xlabel('Variables')\n",
    "plt.title('Quantifying missing data')"
   ]
  },
  {
   "cell_type": "markdown",
   "id": "ca706f52",
   "metadata": {
    "papermill": {
     "duration": 0.009166,
     "end_time": "2023-04-10T10:52:10.255360",
     "exception": false,
     "start_time": "2023-04-10T10:52:10.246194",
     "status": "completed"
    },
    "tags": []
   },
   "source": [
    "**The overall percentage of data that is missing is important. Generally, if less than 5% of values are missing then it is acceptable to ignore them (REF).**"
   ]
  },
  {
   "cell_type": "code",
   "execution_count": 6,
   "id": "188b2f85",
   "metadata": {
    "execution": {
     "iopub.execute_input": "2023-04-10T10:52:10.276708Z",
     "iopub.status.busy": "2023-04-10T10:52:10.275929Z",
     "iopub.status.idle": "2023-04-10T10:52:10.297379Z",
     "shell.execute_reply": "2023-04-10T10:52:10.296185Z"
    },
    "papermill": {
     "duration": 0.034919,
     "end_time": "2023-04-10T10:52:10.299534",
     "exception": false,
     "start_time": "2023-04-10T10:52:10.264615",
     "status": "completed"
    },
    "tags": []
   },
   "outputs": [
    {
     "name": "stdout",
     "output_type": "stream",
     "text": [
      "-----------------After removing the null values-----------------\n"
     ]
    },
    {
     "data": {
      "text/plain": [
       "CustomerID                  0\n",
       "Churn                       0\n",
       "PreferredLoginDevice        0\n",
       "CityTier                    0\n",
       "PreferredPaymentMode        0\n",
       "Gender                      0\n",
       "NumberOfDeviceRegistered    0\n",
       "PreferedOrderCat            0\n",
       "SatisfactionScore           0\n",
       "MaritalStatus               0\n",
       "NumberOfAddress             0\n",
       "Complain                    0\n",
       "CashbackAmount              0\n",
       "dtype: int64"
      ]
     },
     "metadata": {},
     "output_type": "display_data"
    },
    {
     "name": "stdout",
     "output_type": "stream",
     "text": [
      "-----------------shape of data after removing nulls--------------\n"
     ]
    },
    {
     "data": {
      "text/plain": [
       "(5630, 13)"
      ]
     },
     "execution_count": 6,
     "metadata": {},
     "output_type": "execute_result"
    }
   ],
   "source": [
    "df.dropna(axis=1 ,inplace=True)\n",
    "print(\"-----------------After removing the null values-----------------\")\n",
    "display(df.isna().sum())\n",
    "print(\"-----------------shape of data after removing nulls--------------\")\n",
    "df.shape"
   ]
  },
  {
   "cell_type": "markdown",
   "id": "812c6961",
   "metadata": {
    "execution": {
     "iopub.execute_input": "2023-03-20T15:17:59.665958Z",
     "iopub.status.busy": "2023-03-20T15:17:59.664734Z",
     "iopub.status.idle": "2023-03-20T15:17:59.915135Z",
     "shell.execute_reply": "2023-03-20T15:17:59.913689Z",
     "shell.execute_reply.started": "2023-03-20T15:17:59.665879Z"
    },
    "papermill": {
     "duration": 0.009511,
     "end_time": "2023-04-10T10:52:10.318956",
     "exception": false,
     "start_time": "2023-04-10T10:52:10.309445",
     "status": "completed"
    },
    "tags": []
   },
   "source": [
    "# <span style=\"background-color: Green;\">Exploratory Data Analysis (EDA)</span>  \n"
   ]
  },
  {
   "cell_type": "code",
   "execution_count": 7,
   "id": "8f015eb5",
   "metadata": {
    "execution": {
     "iopub.execute_input": "2023-04-10T10:52:10.340945Z",
     "iopub.status.busy": "2023-04-10T10:52:10.340159Z",
     "iopub.status.idle": "2023-04-10T10:52:10.517379Z",
     "shell.execute_reply": "2023-04-10T10:52:10.516480Z"
    },
    "papermill": {
     "duration": 0.191151,
     "end_time": "2023-04-10T10:52:10.519760",
     "exception": false,
     "start_time": "2023-04-10T10:52:10.328609",
     "status": "completed"
    },
    "tags": []
   },
   "outputs": [
    {
     "data": {
      "image/png": "[encoded data removed]",
      "text/plain": [
       "<Figure size 640x480 with 1 Axes>"
      ]
     },
     "metadata": {},
     "output_type": "display_data"
    }
   ],
   "source": [
    "# Check the distribution of the target variable\n",
    "sns.countplot(x=\"Churn\", data=df)\n",
    "plt.show()"
   ]
  },
  {
   "cell_type": "code",
   "execution_count": 8,
   "id": "2b69e2af",
   "metadata": {
    "execution": {
     "iopub.execute_input": "2023-04-10T10:52:10.542501Z",
     "iopub.status.busy": "2023-04-10T10:52:10.541829Z",
     "iopub.status.idle": "2023-04-10T10:52:10.914738Z",
     "shell.execute_reply": "2023-04-10T10:52:10.913376Z"
    },
    "papermill": {
     "duration": 0.387962,
     "end_time": "2023-04-10T10:52:10.918209",
     "exception": false,
     "start_time": "2023-04-10T10:52:10.530247",
     "status": "completed"
    },
    "tags": []
   },
   "outputs": [
    {
     "data": {
      "image/png": "[encoded data removed]",
      "text/plain": [
       "<Figure size 1000x600 with 2 Axes>"
      ]
     },
     "metadata": {},
     "output_type": "display_data"
    }
   ],
   "source": [
    "# Check the correlation between the variables\n",
    "fig, ax = plt.subplots(figsize=(10,6)) \n",
    "sns.heatmap(df.corr(), annot=False)\n",
    "plt.show()"
   ]
  },
  {
   "cell_type": "markdown",
   "id": "13c97d63",
   "metadata": {
    "papermill": {
     "duration": 0.010462,
     "end_time": "2023-04-10T10:52:10.939770",
     "exception": false,
     "start_time": "2023-04-10T10:52:10.929308",
     "status": "completed"
    },
    "tags": []
   },
   "source": [
    "**Data Preprocessing - prepare the data for modeling by converting categorical variables into numerical variables and splitting the dataset into training and testing datasets.**"
   ]
  },
  {
   "cell_type": "code",
   "execution_count": 9,
   "id": "aef0a9e6",
   "metadata": {
    "execution": {
     "iopub.execute_input": "2023-04-10T10:52:10.963641Z",
     "iopub.status.busy": "2023-04-10T10:52:10.963211Z",
     "iopub.status.idle": "2023-04-10T10:52:10.986513Z",
     "shell.execute_reply": "2023-04-10T10:52:10.985308Z"
    },
    "papermill": {
     "duration": 0.039065,
     "end_time": "2023-04-10T10:52:10.989644",
     "exception": false,
     "start_time": "2023-04-10T10:52:10.950579",
     "status": "completed"
    },
    "tags": []
   },
   "outputs": [],
   "source": [
    "# Convert categorical variables into numerical variables\n",
    "le = LabelEncoder()\n",
    "df['PreferredLoginDevice'] = le.fit_transform(df['PreferredLoginDevice'])\n",
    "df['PreferredPaymentMode'] = le.fit_transform(df['PreferredPaymentMode'])\n",
    "df['Gender'] = le.fit_transform(df['Gender'])\n",
    "df['PreferedOrderCat'] = le.fit_transform(df['PreferedOrderCat'])\n",
    "df['MaritalStatus'] = le.fit_transform(df['MaritalStatus'])\n",
    "\n",
    "# Split the dataset into training and testing datasets\n",
    "X = df.drop(['CustomerID', 'Churn'], axis=1)\n",
    "y = df['Churn']\n",
    "X_train, X_test, y_train, y_test = train_test_split(X, y, test_size=0.3, random_state=42)"
   ]
  },
  {
   "cell_type": "markdown",
   "id": "c6b66880",
   "metadata": {
    "papermill": {
     "duration": 0.010643,
     "end_time": "2023-04-10T10:52:11.011222",
     "exception": false,
     "start_time": "2023-04-10T10:52:11.000579",
     "status": "completed"
    },
    "tags": []
   },
   "source": [
    "# <span style=\"background-color: Green;\">Model Training</span>  \n",
    " "
   ]
  },
  {
   "cell_type": "markdown",
   "id": "cf82ebe8",
   "metadata": {
    "papermill": {
     "duration": 0.010332,
     "end_time": "2023-04-10T10:52:11.032513",
     "exception": false,
     "start_time": "2023-04-10T10:52:11.022181",
     "status": "completed"
    },
    "tags": []
   },
   "source": [
    "### Train a Random Forest classifier on the training dataset"
   ]
  },
  {
   "cell_type": "code",
   "execution_count": 10,
   "id": "cf49763d",
   "metadata": {
    "execution": {
     "iopub.execute_input": "2023-04-10T10:52:11.056873Z",
     "iopub.status.busy": "2023-04-10T10:52:11.056137Z",
     "iopub.status.idle": "2023-04-10T10:52:11.554525Z",
     "shell.execute_reply": "2023-04-10T10:52:11.553071Z"
    },
    "papermill": {
     "duration": 0.513703,
     "end_time": "2023-04-10T10:52:11.557300",
     "exception": false,
     "start_time": "2023-04-10T10:52:11.043597",
     "status": "completed"
    },
    "tags": []
   },
   "outputs": [
    {
     "data": {
      "text/plain": [
       "RandomForestClassifier()"
      ]
     },
     "execution_count": 10,
     "metadata": {},
     "output_type": "execute_result"
    }
   ],
   "source": [
    "# Train a Random Forest classifier\n",
    "rf = RandomForestClassifier()\n",
    "rf.fit(X_train, y_train)"
   ]
  },
  {
   "cell_type": "code",
   "execution_count": 11,
   "id": "ee4a247a",
   "metadata": {
    "execution": {
     "iopub.execute_input": "2023-04-10T10:52:11.581428Z",
     "iopub.status.busy": "2023-04-10T10:52:11.581027Z",
     "iopub.status.idle": "2023-04-10T10:52:11.928387Z",
     "shell.execute_reply": "2023-04-10T10:52:11.927094Z"
    },
    "papermill": {
     "duration": 0.36251,
     "end_time": "2023-04-10T10:52:11.930807",
     "exception": false,
     "start_time": "2023-04-10T10:52:11.568297",
     "status": "completed"
    },
    "tags": []
   },
   "outputs": [
    {
     "name": "stdout",
     "output_type": "stream",
     "text": [
      "Accuracy: 0.95\n",
      "              precision    recall  f1-score   support\n",
      "\n",
      "           0       0.95      0.99      0.97      1414\n",
      "           1       0.92      0.73      0.82       275\n",
      "\n",
      "    accuracy                           0.95      1689\n",
      "   macro avg       0.94      0.86      0.89      1689\n",
      "weighted avg       0.95      0.95      0.94      1689\n",
      "\n"
     ]
    },
    {
     "data": {
      "image/png": "[encoded data removed]",
      "text/plain": [
       "<Figure size 640x480 with 2 Axes>"
      ]
     },
     "metadata": {},
     "output_type": "display_data"
    },
    {
     "data": {
      "text/html": [
       "<div>\n",
       "<style scoped>\n",
       "    .dataframe tbody tr th:only-of-type {\n",
       "        vertical-align: middle;\n",
       "    }\n",
       "\n",
       "    .dataframe tbody tr th {\n",
       "        vertical-align: top;\n",
       "    }\n",
       "\n",
       "    .dataframe thead th {\n",
       "        text-align: right;\n",
       "    }\n",
       "</style>\n",
       "<table border=\"1\" class=\"dataframe\">\n",
       "  <thead>\n",
       "    <tr style=\"text-align: right;\">\n",
       "      <th></th>\n",
       "      <th>Predicted: 0</th>\n",
       "      <th>Predicted: 1</th>\n",
       "    </tr>\n",
       "  </thead>\n",
       "  <tbody>\n",
       "    <tr>\n",
       "      <th>Actual: 0</th>\n",
       "      <td>1397</td>\n",
       "      <td>17</td>\n",
       "    </tr>\n",
       "    <tr>\n",
       "      <th>Actual: 1</th>\n",
       "      <td>74</td>\n",
       "      <td>201</td>\n",
       "    </tr>\n",
       "  </tbody>\n",
       "</table>\n",
       "</div>"
      ],
      "text/plain": [
       "           Predicted: 0  Predicted: 1\n",
       "Actual: 0          1397            17\n",
       "Actual: 1            74           201"
      ]
     },
     "metadata": {},
     "output_type": "display_data"
    }
   ],
   "source": [
    "# Model Evaluation - evaluate the performance of the model on the testing dataset\n",
    "\n",
    "# Make predictions on the testing dataset\n",
    "y_pred = rf.predict(X_test)\n",
    "\n",
    "# Check the accuracy of the model\n",
    "print(\"Accuracy:\", round(rf.score(X_test, y_test), 2))\n",
    "\n",
    "# Check the classification report of the model\n",
    "print(classification_report(y_test, y_pred))\n",
    "\n",
    "# Check the confusion matrix of the model\n",
    "cm = confusion_matrix(y_test, y_pred)\n",
    "sns.heatmap(cm, annot=True)\n",
    "plt.show()\n",
    "\n",
    "# Create a DataFrame to display the confusion matrix with predicted and actual axis labels\n",
    "cm_df = pd.DataFrame(cm, columns=['Predicted: 0', 'Predicted: 1'], index=['Actual: 0', 'Actual: 1'])\n",
    "display(cm_df)"
   ]
  },
  {
   "cell_type": "code",
   "execution_count": 12,
   "id": "075fc9e5",
   "metadata": {
    "execution": {
     "iopub.execute_input": "2023-04-10T10:52:11.955751Z",
     "iopub.status.busy": "2023-04-10T10:52:11.955322Z",
     "iopub.status.idle": "2023-04-10T10:52:12.223860Z",
     "shell.execute_reply": "2023-04-10T10:52:12.222484Z"
    },
    "papermill": {
     "duration": 0.284354,
     "end_time": "2023-04-10T10:52:12.226849",
     "exception": false,
     "start_time": "2023-04-10T10:52:11.942495",
     "status": "completed"
    },
    "tags": []
   },
   "outputs": [
    {
     "data": {
      "image/png": "[encoded data removed]",
      "text/plain": [
       "<Figure size 640x480 with 1 Axes>"
      ]
     },
     "metadata": {},
     "output_type": "display_data"
    }
   ],
   "source": [
    "# Compute predicted probabilities: y_pred_prob\n",
    "y_pred_prob = rf.predict_proba(X_test)[:,1]\n",
    "\n",
    "# Generate ROC curve values: fpr, tpr, thresholds\n",
    "fpr, tpr, thresholds = roc_curve(y_test, y_pred_prob)\n",
    "\n",
    "# Plot ROC curve\n",
    "plt.plot([0, 1], [0, 1], 'k--')\n",
    "plt.plot(fpr, tpr)\n",
    "plt.xlabel('False Positive Rate')\n",
    "plt.ylabel('True Positive Rate')\n",
    "plt.title('ROC Curve for Logistic Regression')\n",
    "plt.show()\n"
   ]
  },
  {
   "cell_type": "markdown",
   "id": "e943aa59",
   "metadata": {
    "papermill": {
     "duration": 0.011757,
     "end_time": "2023-04-10T10:52:12.250982",
     "exception": false,
     "start_time": "2023-04-10T10:52:12.239225",
     "status": "completed"
    },
    "tags": []
   },
   "source": [
    "## <span style=\"background-color: Yellow;\"> Lets try another model which is Logistic regression</span>  \n"
   ]
  },
  {
   "cell_type": "code",
   "execution_count": 13,
   "id": "f6f99b84",
   "metadata": {
    "execution": {
     "iopub.execute_input": "2023-04-10T10:52:12.276691Z",
     "iopub.status.busy": "2023-04-10T10:52:12.276308Z",
     "iopub.status.idle": "2023-04-10T10:52:12.415036Z",
     "shell.execute_reply": "2023-04-10T10:52:12.413261Z"
    },
    "papermill": {
     "duration": 0.157236,
     "end_time": "2023-04-10T10:52:12.420015",
     "exception": false,
     "start_time": "2023-04-10T10:52:12.262779",
     "status": "completed"
    },
    "tags": []
   },
   "outputs": [
    {
     "data": {
      "text/plain": [
       "LogisticRegression(random_state=42)"
      ]
     },
     "execution_count": 13,
     "metadata": {},
     "output_type": "execute_result"
    }
   ],
   "source": [
    "lr = LogisticRegression(random_state=42)\n",
    "lr.fit(X_train, y_train)"
   ]
  },
  {
   "cell_type": "code",
   "execution_count": 14,
   "id": "5a2ab8de",
   "metadata": {
    "execution": {
     "iopub.execute_input": "2023-04-10T10:52:12.484674Z",
     "iopub.status.busy": "2023-04-10T10:52:12.482448Z",
     "iopub.status.idle": "2023-04-10T10:52:12.780138Z",
     "shell.execute_reply": "2023-04-10T10:52:12.778054Z"
    },
    "papermill": {
     "duration": 0.334834,
     "end_time": "2023-04-10T10:52:12.785019",
     "exception": false,
     "start_time": "2023-04-10T10:52:12.450185",
     "status": "completed"
    },
    "tags": []
   },
   "outputs": [
    {
     "data": {
      "image/png": "[encoded data removed]",
      "text/plain": [
       "<Figure size 640x480 with 2 Axes>"
      ]
     },
     "metadata": {},
     "output_type": "display_data"
    },
    {
     "name": "stdout",
     "output_type": "stream",
     "text": [
      "Accuracy: 0.85\n",
      "              precision    recall  f1-score   support\n",
      "\n",
      "           0       0.86      0.97      0.92      1414\n",
      "           1       0.61      0.22      0.32       275\n",
      "\n",
      "    accuracy                           0.85      1689\n",
      "   macro avg       0.74      0.60      0.62      1689\n",
      "weighted avg       0.82      0.85      0.82      1689\n",
      "\n"
     ]
    },
    {
     "data": {
      "text/html": [
       "<div>\n",
       "<style scoped>\n",
       "    .dataframe tbody tr th:only-of-type {\n",
       "        vertical-align: middle;\n",
       "    }\n",
       "\n",
       "    .dataframe tbody tr th {\n",
       "        vertical-align: top;\n",
       "    }\n",
       "\n",
       "    .dataframe thead th {\n",
       "        text-align: right;\n",
       "    }\n",
       "</style>\n",
       "<table border=\"1\" class=\"dataframe\">\n",
       "  <thead>\n",
       "    <tr style=\"text-align: right;\">\n",
       "      <th></th>\n",
       "      <th>Predicted: 0</th>\n",
       "      <th>Predicted: 1</th>\n",
       "    </tr>\n",
       "  </thead>\n",
       "  <tbody>\n",
       "    <tr>\n",
       "      <th>Actual: 0</th>\n",
       "      <td>1376</td>\n",
       "      <td>38</td>\n",
       "    </tr>\n",
       "    <tr>\n",
       "      <th>Actual: 1</th>\n",
       "      <td>215</td>\n",
       "      <td>60</td>\n",
       "    </tr>\n",
       "  </tbody>\n",
       "</table>\n",
       "</div>"
      ],
      "text/plain": [
       "           Predicted: 0  Predicted: 1\n",
       "Actual: 0          1376            38\n",
       "Actual: 1           215            60"
      ]
     },
     "metadata": {},
     "output_type": "display_data"
    }
   ],
   "source": [
    "# Make predictions on the testing dataset\n",
    "y_pred = lr.predict(X_test)\n",
    "\n",
    "\n",
    "# Check the confusion matrix of the model\n",
    "con_m = confusion_matrix(y_test, y_pred)\n",
    "sns.heatmap(con_m, annot=True)\n",
    "plt.show()\n",
    "# Check the accuracy of the model\n",
    "print(\"Accuracy:\", round(lr.score(X_test, y_test), 2))\n",
    "\n",
    "# Check the classification report of the model\n",
    "print(classification_report(y_test, y_pred))\n",
    "\n",
    "\n",
    "# Create a DataFrame to display the confusion matrix with predicted and actual axis labels\n",
    "con_m_df = pd.DataFrame(con_m, columns=['Predicted: 0', 'Predicted: 1'], index=['Actual: 0', 'Actual: 1'])\n",
    "display(con_m_df)"
   ]
  },
  {
   "cell_type": "code",
   "execution_count": 15,
   "id": "2ac750f2",
   "metadata": {
    "execution": {
     "iopub.execute_input": "2023-04-10T10:52:12.850019Z",
     "iopub.status.busy": "2023-04-10T10:52:12.849111Z",
     "iopub.status.idle": "2023-04-10T10:52:13.113847Z",
     "shell.execute_reply": "2023-04-10T10:52:13.112440Z"
    },
    "papermill": {
     "duration": 0.300527,
     "end_time": "2023-04-10T10:52:13.116637",
     "exception": false,
     "start_time": "2023-04-10T10:52:12.816110",
     "status": "completed"
    },
    "tags": []
   },
   "outputs": [
    {
     "data": {
      "image/png": "[encoded data removed]",
      "text/plain": [
       "<Figure size 640x480 with 1 Axes>"
      ]
     },
     "metadata": {},
     "output_type": "display_data"
    }
   ],
   "source": [
    "# Compute predicted probabilities: y_pred_prob\n",
    "y_pred_prob = lr.predict_proba(X_test)[:,1]\n",
    "\n",
    "# Generate ROC curve values: fpr, tpr, thresholds\n",
    "fpr, tpr, thresholds = roc_curve(y_test, y_pred_prob)\n",
    "\n",
    "# Plot ROC curve\n",
    "plt.plot([0, 1], [0, 1], 'k--')\n",
    "plt.plot(fpr, tpr)\n",
    "plt.xlabel('False Positive Rate')\n",
    "plt.ylabel('True Positive Rate')\n",
    "plt.title('ROC Curve for Logistic Regression')\n",
    "plt.show()\n"
   ]
  },
  {
   "cell_type": "markdown",
   "id": "ad327f58",
   "metadata": {
    "papermill": {
     "duration": 0.0134,
     "end_time": "2023-04-10T10:52:13.143737",
     "exception": false,
     "start_time": "2023-04-10T10:52:13.130337",
     "status": "completed"
    },
    "tags": []
   },
   "source": [
    "# <span style=\"background-color: Green;\">Conclusions</span>  \n",
    " "
   ]
  },
  {
   "cell_type": "markdown",
   "id": "2f1dfd25",
   "metadata": {
    "papermill": {
     "duration": 0.013377,
     "end_time": "2023-04-10T10:52:13.171198",
     "exception": false,
     "start_time": "2023-04-10T10:52:13.157821",
     "status": "completed"
    },
    "tags": []
   },
   "source": [
    "**Having achieved an AUC ROC score of 0.98, we exceeded our minimum target for the AUC ROC score**\n",
    "\n",
    "**In the classification report, we observed a promising result for our model with recall score and f1 score for \"churn\" and \"no churn\" above 85%**\n"
   ]
  },
  {
   "cell_type": "code",
   "execution_count": null,
   "id": "71b2c9ec",
   "metadata": {
    "papermill": {
     "duration": 0.016196,
     "end_time": "2023-04-10T10:52:13.201043",
     "exception": false,
     "start_time": "2023-04-10T10:52:13.184847",
     "status": "completed"
    },
    "tags": []
   },
   "outputs": [],
   "source": []
  }
 ],
 "metadata": {
  "kernelspec": {
   "display_name": "Python 3",
   "language": "python",
   "name": "python3"
  },
  "language_info": {
   "codemirror_mode": {
    "name": "ipython",
    "version": 3
   },
   "file_extension": ".py",
   "mimetype": "text/x-python",
   "name": "python",
   "nbconvert_exporter": "python",
   "pygments_lexer": "ipython3",
   "version": "3.7.12"
  },
  "papermill": {
   "default_parameters": {},
   "duration": 20.759558,
   "end_time": "2023-04-10T10:52:14.144524",
   "environment_variables": {},
   "exception": null,
   "input_path": "__notebook__.ipynb",
   "output_path": "__notebook__.ipynb",
   "parameters": {},
   "start_time": "2023-04-10T10:51:53.384966",
   "version": "2.4.0"
  }
 },
 "nbformat": 4,
 "nbformat_minor": 5
}
